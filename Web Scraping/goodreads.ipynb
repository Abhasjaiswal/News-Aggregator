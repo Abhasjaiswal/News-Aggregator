{
 "cells": [
  {
   "cell_type": "code",
   "execution_count": 1,
   "metadata": {},
   "outputs": [],
   "source": [
    "import requests\n",
    "import pandas as pd \n",
    "from bs4 import BeautifulSoup\n",
    "from joblib import Parallel, delayed\n",
    "from rake_nltk import Rake"
   ]
  },
  {
   "cell_type": "code",
   "execution_count": 2,
   "metadata": {},
   "outputs": [],
   "source": [
    "base_url='https://www.goodreads.com'"
   ]
  },
  {
   "cell_type": "code",
   "execution_count": 5,
   "metadata": {},
   "outputs": [],
   "source": [
    "r = requests.get('https://www.goodreads.com/list/show/3810.Best_Cozy_Mystery_Series?page=1')\n",
    "soup = BeautifulSoup(r.text, 'html.parser')"
   ]
  },
  {
   "cell_type": "code",
   "execution_count": 6,
   "metadata": {},
   "outputs": [
    {
     "name": "stdout",
     "output_type": "stream",
     "text": [
      "/book/show/16331.Murder_at_the_Vicarage\n"
     ]
    }
   ],
   "source": [
    "link = soup.find('a', class_='bookTitle')\n",
    "href = link['href']\n",
    "print(href)"
   ]
  },
  {
   "cell_type": "code",
   "execution_count": 7,
   "metadata": {},
   "outputs": [],
   "source": [
    "\n",
    "product_links = set()\n",
    "\n",
    "for x in range(0,2):  \n",
    "    r = requests.get(f'https://www.goodreads.com/list/show/3810.Best_Cozy_Mystery_Series?page={x}')\n",
    "    soup = BeautifulSoup(r.text, 'html.parser')\n",
    "    \n",
    "    product_list = soup.find_all('a', class_='bookTitle', href=True)\n",
    "    \n",
    "    for link in product_list:\n",
    "        product_links.add(base_url + link['href'])\n",
    "\n",
    "product_links = list(product_links)\n"
   ]
  },
  {
   "cell_type": "code",
   "execution_count": 8,
   "metadata": {},
   "outputs": [
    {
     "data": {
      "text/plain": [
       "['https://www.goodreads.com/book/show/8145181-truly-madly',\n",
       " 'https://www.goodreads.com/book/show/33445.Blueberry_Muffin_Murder',\n",
       " 'https://www.goodreads.com/book/show/102303.Why_Didn_t_They_Ask_Evans_',\n",
       " 'https://www.goodreads.com/book/show/960.Angels_Demons',\n",
       " 'https://www.goodreads.com/book/show/586437.The_Tale_of_Hill_Top_Farm',\n",
       " 'https://www.goodreads.com/book/show/6372680-aunt-dimity-s-death',\n",
       " 'https://www.goodreads.com/book/show/512385.The_Trouble_With_Magic',\n",
       " 'https://www.goodreads.com/book/show/52843028-the-mysterious-affair-at-styles',\n",
       " 'https://www.goodreads.com/book/show/3663410-the-diva-runs-out-of-thyme',\n",
       " 'https://www.goodreads.com/book/show/156510.The_Ghost_and_Mrs_McClure',\n",
       " 'https://www.goodreads.com/book/show/36347162-chocolate-chip-cookie-murder',\n",
       " 'https://www.goodreads.com/book/show/90187.Knit_One_Kill_Two',\n",
       " 'https://www.goodreads.com/book/show/45020.Shakespeare_s_Landlord',\n",
       " 'https://www.goodreads.com/book/show/2685034-one-bad-apple',\n",
       " 'https://www.goodreads.com/book/show/498594.Death_by_Darjeeling',\n",
       " 'https://www.goodreads.com/book/show/6853.One_for_the_Money',\n",
       " 'https://www.goodreads.com/book/show/2001935.Carrot_Cake_Murder',\n",
       " 'https://www.goodreads.com/book/show/7689099-a-killer-plot',\n",
       " 'https://www.goodreads.com/book/show/1176884.Body_Movers',\n",
       " 'https://www.goodreads.com/book/show/23217.Size_14_Is_Not_Fat_Either',\n",
       " 'https://www.goodreads.com/book/show/140087.Poppy_Done_to_Death',\n",
       " 'https://www.goodreads.com/book/show/269746.Catering_to_Nobody',\n",
       " 'https://www.goodreads.com/book/show/6443402-bookplate-special',\n",
       " 'https://www.goodreads.com/book/show/6344832-grave-secret',\n",
       " 'https://www.goodreads.com/book/show/462033.Maisie_Dobbs',\n",
       " 'https://www.goodreads.com/book/show/33439.Strawberry_Shortcake_Murder',\n",
       " 'https://www.goodreads.com/book/show/6218281-the-sweetness-at-the-bottom-of-the-pie',\n",
       " 'https://www.goodreads.com/book/show/33438.Peach_Cobbler_Murder',\n",
       " 'https://www.goodreads.com/book/show/8173806-this-pen-for-hire',\n",
       " 'https://www.goodreads.com/book/show/6238524-the-cat-the-quilt-and-the-corpse',\n",
       " 'https://www.goodreads.com/book/show/367063.Crewel_World',\n",
       " 'https://www.goodreads.com/book/show/6367212-plum-pudding-murder',\n",
       " 'https://www.goodreads.com/book/show/181667.The_Vicious_Vet',\n",
       " 'https://www.goodreads.com/book/show/3384459-eggs-in-purgatory',\n",
       " 'https://www.goodreads.com/book/show/338691.Still_Life',\n",
       " 'https://www.goodreads.com/book/show/22522007-tracing-the-contours',\n",
       " 'https://www.goodreads.com/book/show/508903.The_Cat_Who_Could_Read_Backwards',\n",
       " 'https://www.goodreads.com/book/show/301082.Dead_Until_Dark',\n",
       " 'https://www.goodreads.com/book/show/139176.The_Quiche_of_Death',\n",
       " 'https://www.goodreads.com/book/show/853510.Murder_on_the_Orient_Express',\n",
       " 'https://www.goodreads.com/book/show/58077.Grave_Sight',\n",
       " 'https://www.goodreads.com/book/show/33442.Sugar_Cookie_Murder',\n",
       " 'https://www.goodreads.com/book/show/140097.An_Ice_Cold_Grave',\n",
       " 'https://www.goodreads.com/book/show/140096.The_Julius_House',\n",
       " 'https://www.goodreads.com/book/show/41022009-cocaine-blues',\n",
       " 'https://www.goodreads.com/book/show/347697.The_Cat_Who_Blew_the_Whistle',\n",
       " 'https://www.goodreads.com/book/show/853520.Death_on_Demand',\n",
       " 'https://www.goodreads.com/book/show/545766.Murder_with_Peacocks',\n",
       " 'https://www.goodreads.com/book/show/574955.Abby_Cooper_Psychic_Eye',\n",
       " 'https://www.goodreads.com/book/show/686718.Murder_on_Astor_Place',\n",
       " 'https://www.goodreads.com/book/show/6463372-i-scream-you-scream',\n",
       " 'https://www.goodreads.com/book/show/21899683-a-dead-sister',\n",
       " 'https://www.goodreads.com/book/show/17185170-back-on-the-market',\n",
       " 'https://www.goodreads.com/book/show/149355.The_Amazing_Mrs_Pollifax',\n",
       " 'https://www.goodreads.com/book/show/6077869-homicide-in-hardcover',\n",
       " 'https://www.goodreads.com/book/show/129117.The_Spellman_Files',\n",
       " 'https://www.goodreads.com/book/show/2586724-murder-is-binding',\n",
       " 'https://www.goodreads.com/book/show/23220.Size_12_Is_Not_Fat',\n",
       " 'https://www.goodreads.com/book/show/33440.Lemon_Meringue_Pie_Murder',\n",
       " 'https://www.goodreads.com/book/show/165341.Murder_at_Monticello',\n",
       " 'https://www.goodreads.com/book/show/7061.The_No_1_Ladies_Detective_Agency',\n",
       " 'https://www.goodreads.com/book/show/518518.The_Chocolate_Cat_Caper',\n",
       " 'https://www.goodreads.com/book/show/352427.Mum_s_the_Word',\n",
       " 'https://www.goodreads.com/book/show/140091.Real_Murders',\n",
       " 'https://www.goodreads.com/book/show/213472.Death_of_a_Cad',\n",
       " 'https://www.goodreads.com/book/show/508572.Miss_Zukas_and_the_Library_Murders',\n",
       " 'https://www.goodreads.com/book/show/171349.Murder_on_a_Girls_Night_Out',\n",
       " 'https://www.goodreads.com/book/show/7039.Tears_of_the_Giraffe',\n",
       " 'https://www.goodreads.com/book/show/32516.Shakespeare_s_Trollop',\n",
       " 'https://www.goodreads.com/book/show/129537.What_s_a_Ghoul_to_Do_',\n",
       " 'https://www.goodreads.com/book/show/140524.The_Unexpected_Mrs_Pollifax',\n",
       " 'https://www.goodreads.com/book/show/6048530-finger-lickin-fifteen',\n",
       " 'https://www.goodreads.com/book/show/140090.Three_Bedrooms_One_Corpse',\n",
       " 'https://www.goodreads.com/book/show/7023554-sizzling-sixteen',\n",
       " 'https://www.goodreads.com/book/show/363613.Pick_Your_Poison',\n",
       " 'https://www.goodreads.com/book/show/16299.And_Then_There_Were_None',\n",
       " 'https://www.goodreads.com/book/show/40881649-crocodile-on-the-sandbank',\n",
       " 'https://www.goodreads.com/book/show/207687.Big_Boned',\n",
       " 'https://www.goodreads.com/book/show/16328.The_Murder_of_Roger_Ackroyd',\n",
       " 'https://www.goodreads.com/book/show/6957009-apple-turnover-murder',\n",
       " 'https://www.goodreads.com/book/show/16331.Murder_at_the_Vicarage',\n",
       " 'https://www.goodreads.com/book/show/140093.A_Bone_to_Pick',\n",
       " 'https://www.goodreads.com/book/show/16325.Partners_in_Crime',\n",
       " 'https://www.goodreads.com/book/show/6633516-sprinkle-with-murder',\n",
       " 'https://www.goodreads.com/book/show/3712764-bookmarked-for-death',\n",
       " 'https://www.goodreads.com/book/show/6456016-secondhand-spirits',\n",
       " 'https://www.goodreads.com/book/show/6419.Plum_Lovin_',\n",
       " 'https://www.goodreads.com/book/show/33436.Key_Lime_Pie_Murder',\n",
       " 'https://www.goodreads.com/book/show/8205669-wicked-appetite',\n",
       " 'https://www.goodreads.com/book/show/16361.The_Secret_of_Chimneys',\n",
       " 'https://www.goodreads.com/book/show/813740.How_to_Murder_a_Millionaire',\n",
       " 'https://www.goodreads.com/book/show/383514.Her_Royal_Spyness',\n",
       " 'https://www.goodreads.com/book/show/136862.Fudge_Cupcake_Murder',\n",
       " 'https://www.goodreads.com/book/show/3649472-fatal-fixer-upper',\n",
       " 'https://www.goodreads.com/book/show/303639.On_What_Grounds',\n",
       " 'https://www.goodreads.com/book/show/8857.Death_of_a_Gossip',\n",
       " 'https://www.goodreads.com/book/show/9745415-books-can-be-deceiving',\n",
       " 'https://www.goodreads.com/book/show/761668.Thyme_of_Death',\n",
       " 'https://www.goodreads.com/book/show/1284050.Demons_are_a_Ghoul_s_Best_Friend',\n",
       " 'https://www.goodreads.com/book/show/638247.Death_at_Wentwater_Court']"
      ]
     },
     "execution_count": 8,
     "metadata": {},
     "output_type": "execute_result"
    }
   ],
   "source": [
    "product_links"
   ]
  },
  {
   "cell_type": "code",
   "execution_count": 10,
   "metadata": {},
   "outputs": [],
   "source": [
    "test_link=\"https://www.goodreads.com/book/show/16331.Murder_at_the_Vicarage\""
   ]
  },
  {
   "cell_type": "code",
   "execution_count": 11,
   "metadata": {},
   "outputs": [],
   "source": [
    "r=requests.get(test_link)\n",
    "soup=BeautifulSoup(r.text,'lxml')"
   ]
  },
  {
   "cell_type": "code",
   "execution_count": 13,
   "metadata": {},
   "outputs": [
    {
     "data": {
      "text/plain": [
       "'Murder at the Vicarage'"
      ]
     },
     "execution_count": 13,
     "metadata": {},
     "output_type": "execute_result"
    }
   ],
   "source": [
    "soup.find('h1').text"
   ]
  },
  {
   "cell_type": "code",
   "execution_count": 14,
   "metadata": {},
   "outputs": [
    {
     "data": {
      "text/plain": [
       "'Murder at the Vicarage'"
      ]
     },
     "execution_count": 14,
     "metadata": {},
     "output_type": "execute_result"
    }
   ],
   "source": [
    "Name=soup.find('h1').text\n",
    "Name"
   ]
  },
  {
   "cell_type": "code",
   "execution_count": 15,
   "metadata": {},
   "outputs": [
    {
     "data": {
      "text/plain": [
       "'Agatha Christie'"
      ]
     },
     "execution_count": 15,
     "metadata": {},
     "output_type": "execute_result"
    }
   ],
   "source": [
    "Contributor_Name= soup.find('span', class_='ContributorLink__name').text\n",
    "Contributor_Name"
   ]
  },
  {
   "cell_type": "code",
   "execution_count": 16,
   "metadata": {},
   "outputs": [
    {
     "name": "stdout",
     "output_type": "stream",
     "text": [
      "4.05\n"
     ]
    }
   ],
   "source": [
    "rating_text = soup.find('span', class_='RatingStars RatingStars__medium')['aria-label']\n",
    "rating = float(rating_text.split()[1])\n",
    "print(rating)"
   ]
  },
  {
   "cell_type": "code",
   "execution_count": 17,
   "metadata": {},
   "outputs": [
    {
     "data": {
      "text/plain": [
       "187812"
      ]
     },
     "execution_count": 17,
     "metadata": {},
     "output_type": "execute_result"
    }
   ],
   "source": [
    "rating_count_text = soup.find('span', {'data-testid': 'ratingsCount'}).text\n",
    "rating_count = int(rating_count_text.replace(',', '').split()[0])\n",
    "rating_count"
   ]
  },
  {
   "cell_type": "code",
   "execution_count": 18,
   "metadata": {},
   "outputs": [
    {
     "data": {
      "text/plain": [
       "7351"
      ]
     },
     "execution_count": 18,
     "metadata": {},
     "output_type": "execute_result"
    }
   ],
   "source": [
    "reviews_count_text = soup.find('span', class_='u-dot-before').text\n",
    "reviews_count = int(reviews_count_text.replace(',', '').split()[0])\n",
    "reviews_count"
   ]
  },
  {
   "cell_type": "code",
   "execution_count": 19,
   "metadata": {},
   "outputs": [
    {
     "data": {
      "text/plain": [
       "'288 pages, Hardcover'"
      ]
     },
     "execution_count": 19,
     "metadata": {},
     "output_type": "execute_result"
    }
   ],
   "source": [
    "Format=soup.find('p').text\n",
    "Format"
   ]
  },
  {
   "cell_type": "code",
   "execution_count": 20,
   "metadata": {},
   "outputs": [
    {
     "name": "stdout",
     "output_type": "stream",
     "text": [
      "{'Name': 'Truly, Madly', 'Author': 'Heather Webber', 'rating': 3.92, 'rating_count': 6997, 'reviews_count': 1152, 'Format': '305 pages, Kindle Edition'}\n",
      "{'Name': 'Blueberry Muffin Murder', 'Author': 'Joanne Fluke', 'rating': 3.89, 'rating_count': 24079, 'reviews_count': 1358, 'Format': '310 pages, Paperback'}\n",
      "{'Name': \"Why Didn't They Ask Evans?\", 'Author': 'Agatha Christie', 'rating': 3.9, 'rating_count': 34009, 'reviews_count': 2596, 'Format': '288 pages, Mass Market Paperback'}\n",
      "{'Name': 'Angels & Demons', 'Author': 'Dan       Brown', 'rating': 3.94, 'rating_count': 3184325, 'reviews_count': 33792, 'Format': '736 pages, Mass Market Paperback'}\n",
      "{'Name': 'The Tale of Hill Top Farm', 'Author': 'Susan Wittig Albert', 'rating': 3.91, 'rating_count': 4017, 'reviews_count': 536, 'Format': '286 pages, Hardcover'}\n",
      "{'Name': \"Aunt Dimity's Death\", 'Author': 'Nancy Atherton', 'rating': 3.96, 'rating_count': 13801, 'reviews_count': 1440, 'Format': '244 pages, Mass Market Paperback'}\n",
      "{'Name': 'The Trouble With Magic', 'Author': 'Madelyn Alt', 'rating': 3.69, 'rating_count': 7276, 'reviews_count': 554, 'Format': \"Antiques-shop clerk Maggie O'Neill was a little weirded out when she discovered her new boss Felicity was a witch. But when Felicity becomes the suspect in a local murder, Maggie must enlist Felicity's wiccan friends for help--and discover her own spellbinding talent.\"}\n",
      "{'Name': 'The Mysterious Affair at Styles', 'Author': 'Agatha Christie', 'rating': 4.0, 'rating_count': 419444, 'reviews_count': 16102, 'Format': '174 pages, Paperback'}\n",
      "{'Name': 'The Diva Runs Out of Thyme', 'Author': 'Krista Davis', 'rating': 3.95, 'rating_count': 6910, 'reviews_count': 736, 'Format': '292 pages, Mass Market Paperback'}\n",
      "{'Name': 'The Ghost and Mrs. McClure', 'Author': 'Alice Kimberly', 'rating': 3.79, 'rating_count': 6754, 'reviews_count': 641, 'Format': '261 pages, Paperback'}\n",
      "{'Name': 'Chocolate Chip Cookie Murder', 'Author': 'Joanne Fluke', 'rating': 3.69, 'rating_count': 62280, 'reviews_count': 4934, 'Format': '436 pages, Mass Market Paperback'}\n",
      "{'Name': 'Knit One, Kill Two', 'Author': 'Maggie Sefton', 'rating': 3.57, 'rating_count': 7732, 'reviews_count': 914, 'Format': '273 pages, Mass Market Paperback'}\n",
      "{'Name': \"Shakespeare's Landlord\", 'Author': 'Charlaine Harris', 'rating': 3.77, 'rating_count': 27446, 'reviews_count': 1534, 'Format': '216 pages, Mass Market Paperback'}\n",
      "{'Name': 'One Bad Apple', 'Author': 'Sheila Connolly', 'rating': 3.81, 'rating_count': 4177, 'reviews_count': 330, 'Format': '262 pages, Mass Market Paperback'}\n",
      "{'Name': 'Death by Darjeeling', 'Author': 'Laura Childs', 'rating': 3.73, 'rating_count': 11434, 'reviews_count': 1032, 'Format': '243 pages, Mass Market Paperback'}\n",
      "{'Name': 'One for the Money', 'Author': 'Janet Evanovich', 'rating': 4.05, 'rating_count': 549368, 'reviews_count': 17108, 'Format': '320 pages, Paperback'}\n",
      "{'Name': 'Carrot Cake Murder', 'Author': 'Joanne Fluke', 'rating': 3.84, 'rating_count': 15074, 'reviews_count': 831, 'Format': '324 pages, Hardcover'}\n",
      "{'Name': 'A Killer Plot', 'Author': 'Ellery Adams', 'rating': 3.78, 'rating_count': 6005, 'reviews_count': 628, 'Format': '311 pages, Mass Market Paperback'}\n",
      "{'Name': 'Body Movers', 'Author': 'Stephanie Bond', 'rating': 3.87, 'rating_count': 14252, 'reviews_count': 728, 'Format': '384 pages, Mass Market Paperback'}\n",
      "{'Name': 'Size 14 Is Not Fat Either', 'Author': 'Meg Cabot', 'rating': 3.84, 'rating_count': 31192, 'reviews_count': 1227, 'Format': '344 pages, Paperback'}\n",
      "{'Name': 'Poppy Done to Death', 'Author': 'Charlaine Harris', 'rating': 3.88, 'rating_count': 15391, 'reviews_count': 655, 'Format': '256 pages, Mass Market Paperback'}\n",
      "{'Name': 'Catering to Nobody', 'Author': 'Diane Mott Davidson', 'rating': 3.83, 'rating_count': 21529, 'reviews_count': 1054, 'Format': '301 pages, Mass Market Paperback'}\n",
      "{'Name': 'Bookplate Special', 'Author': 'Lorna Barrett', 'rating': 3.79, 'rating_count': 5886, 'reviews_count': 476, 'Format': '301 pages, Mass Market Paperback'}\n"
     ]
    },
    {
     "ename": "AttributeError",
     "evalue": "'NoneType' object has no attribute 'text'",
     "output_type": "error",
     "traceback": [
      "\u001b[0;31m---------------------------------------------------------------------------\u001b[0m",
      "\u001b[0;31mAttributeError\u001b[0m                            Traceback (most recent call last)",
      "Cell \u001b[0;32mIn[20], line 5\u001b[0m\n\u001b[1;32m      3\u001b[0m r\u001b[38;5;241m=\u001b[39mrequests\u001b[38;5;241m.\u001b[39mget(link)\n\u001b[1;32m      4\u001b[0m soup\u001b[38;5;241m=\u001b[39mBeautifulSoup(r\u001b[38;5;241m.\u001b[39mtext,\u001b[38;5;124m'\u001b[39m\u001b[38;5;124mlxml\u001b[39m\u001b[38;5;124m'\u001b[39m)\n\u001b[0;32m----> 5\u001b[0m Name\u001b[38;5;241m=\u001b[39m\u001b[43msoup\u001b[49m\u001b[38;5;241;43m.\u001b[39;49m\u001b[43mfind\u001b[49m\u001b[43m(\u001b[49m\u001b[38;5;124;43m'\u001b[39;49m\u001b[38;5;124;43mh1\u001b[39;49m\u001b[38;5;124;43m'\u001b[39;49m\u001b[43m)\u001b[49m\u001b[38;5;241;43m.\u001b[39;49m\u001b[43mtext\u001b[49m\n\u001b[1;32m      6\u001b[0m Contributor_Name\u001b[38;5;241m=\u001b[39m soup\u001b[38;5;241m.\u001b[39mfind(\u001b[38;5;124m'\u001b[39m\u001b[38;5;124mspan\u001b[39m\u001b[38;5;124m'\u001b[39m, class_\u001b[38;5;241m=\u001b[39m\u001b[38;5;124m'\u001b[39m\u001b[38;5;124mContributorLink__name\u001b[39m\u001b[38;5;124m'\u001b[39m)\u001b[38;5;241m.\u001b[39mtext\n\u001b[1;32m      7\u001b[0m rating_text \u001b[38;5;241m=\u001b[39m soup\u001b[38;5;241m.\u001b[39mfind(\u001b[38;5;124m'\u001b[39m\u001b[38;5;124mspan\u001b[39m\u001b[38;5;124m'\u001b[39m, class_\u001b[38;5;241m=\u001b[39m\u001b[38;5;124m'\u001b[39m\u001b[38;5;124mRatingStars RatingStars__medium\u001b[39m\u001b[38;5;124m'\u001b[39m)[\u001b[38;5;124m'\u001b[39m\u001b[38;5;124maria-label\u001b[39m\u001b[38;5;124m'\u001b[39m]\n",
      "\u001b[0;31mAttributeError\u001b[0m: 'NoneType' object has no attribute 'text'"
     ]
    }
   ],
   "source": [
    "product_data=[]\n",
    "for link in product_links:\n",
    "    r=requests.get(link)\n",
    "    soup=BeautifulSoup(r.text,'lxml')\n",
    "    Name=soup.find('h1').text\n",
    "    Contributor_Name= soup.find('span', class_='ContributorLink__name').text\n",
    "    rating_text = soup.find('span', class_='RatingStars RatingStars__medium')['aria-label']\n",
    "    rating = float(rating_text.split()[1])\n",
    "    rating_count_text = soup.find('span', {'data-testid': 'ratingsCount'}).text\n",
    "    rating_count = int(rating_count_text.replace(',', '').split()[0])\n",
    "    reviews_count_text = soup.find('span', class_='u-dot-before').text\n",
    "    reviews_count = int(reviews_count_text.replace(',', '').split()[0])\n",
    "    Format=soup.find('p').text\n",
    "\n",
    "    Book={'Name':Name,'Author':Contributor_Name,'rating':rating,'rating_count':rating_count,'reviews_count':reviews_count,'Format':Format}\n",
    "    print(Book)\n",
    "    product_data.append(Book)"
   ]
  }
 ],
 "metadata": {
  "kernelspec": {
   "display_name": "venv",
   "language": "python",
   "name": "python3"
  },
  "language_info": {
   "codemirror_mode": {
    "name": "ipython",
    "version": 3
   },
   "file_extension": ".py",
   "mimetype": "text/x-python",
   "name": "python",
   "nbconvert_exporter": "python",
   "pygments_lexer": "ipython3",
   "version": "3.11.8"
  }
 },
 "nbformat": 4,
 "nbformat_minor": 2
}
