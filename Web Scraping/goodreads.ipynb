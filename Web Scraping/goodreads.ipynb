{
 "cells": [
  {
   "cell_type": "code",
   "execution_count": 48,
   "metadata": {},
   "outputs": [],
   "source": [
    "import requests\n",
    "import pandas as pd \n",
    "from bs4 import BeautifulSoup\n",
    "from joblib import Parallel, delayed\n",
    "from rake_nltk import Rake"
   ]
  },
  {
   "cell_type": "code",
   "execution_count": 2,
   "metadata": {},
   "outputs": [],
   "source": [
    "base_url='https://www.goodreads.com'"
   ]
  },
  {
   "cell_type": "code",
   "execution_count": 5,
   "metadata": {},
   "outputs": [],
   "source": [
    "r = requests.get('https://www.goodreads.com/list/show/3810.Best_Cozy_Mystery_Series?page=1')\n",
    "soup = BeautifulSoup(r.text, 'html.parser')"
   ]
  },
  {
   "cell_type": "code",
   "execution_count": 6,
   "metadata": {},
   "outputs": [
    {
     "name": "stdout",
     "output_type": "stream",
     "text": [
      "/book/show/16331.Murder_at_the_Vicarage\n"
     ]
    }
   ],
   "source": [
    "link = soup.find('a', class_='bookTitle')\n",
    "href = link['href']\n",
    "print(href)"
   ]
  },
  {
   "cell_type": "code",
   "execution_count": 7,
   "metadata": {},
   "outputs": [],
   "source": [
    "\n",
    "product_links = set()\n",
    "\n",
    "for x in range(0,2):  \n",
    "    r = requests.get(f'https://www.goodreads.com/list/show/3810.Best_Cozy_Mystery_Series?page={x}')\n",
    "    soup = BeautifulSoup(r.text, 'html.parser')\n",
    "    \n",
    "    product_list = soup.find_all('a', class_='bookTitle', href=True)\n",
    "    \n",
    "    for link in product_list:\n",
    "        product_links.add(base_url + link['href'])\n",
    "\n",
    "product_links = list(product_links)\n"
   ]
  },
  {
   "cell_type": "code",
   "execution_count": 8,
   "metadata": {},
   "outputs": [
    {
     "data": {
      "text/plain": [
       "['https://www.goodreads.com/book/show/8145181-truly-madly',\n",
       " 'https://www.goodreads.com/book/show/33445.Blueberry_Muffin_Murder',\n",
       " 'https://www.goodreads.com/book/show/102303.Why_Didn_t_They_Ask_Evans_',\n",
       " 'https://www.goodreads.com/book/show/960.Angels_Demons',\n",
       " 'https://www.goodreads.com/book/show/586437.The_Tale_of_Hill_Top_Farm',\n",
       " 'https://www.goodreads.com/book/show/6372680-aunt-dimity-s-death',\n",
       " 'https://www.goodreads.com/book/show/512385.The_Trouble_With_Magic',\n",
       " 'https://www.goodreads.com/book/show/52843028-the-mysterious-affair-at-styles',\n",
       " 'https://www.goodreads.com/book/show/3663410-the-diva-runs-out-of-thyme',\n",
       " 'https://www.goodreads.com/book/show/156510.The_Ghost_and_Mrs_McClure',\n",
       " 'https://www.goodreads.com/book/show/36347162-chocolate-chip-cookie-murder',\n",
       " 'https://www.goodreads.com/book/show/90187.Knit_One_Kill_Two',\n",
       " 'https://www.goodreads.com/book/show/45020.Shakespeare_s_Landlord',\n",
       " 'https://www.goodreads.com/book/show/2685034-one-bad-apple',\n",
       " 'https://www.goodreads.com/book/show/498594.Death_by_Darjeeling',\n",
       " 'https://www.goodreads.com/book/show/6853.One_for_the_Money',\n",
       " 'https://www.goodreads.com/book/show/2001935.Carrot_Cake_Murder',\n",
       " 'https://www.goodreads.com/book/show/7689099-a-killer-plot',\n",
       " 'https://www.goodreads.com/book/show/1176884.Body_Movers',\n",
       " 'https://www.goodreads.com/book/show/23217.Size_14_Is_Not_Fat_Either',\n",
       " 'https://www.goodreads.com/book/show/140087.Poppy_Done_to_Death',\n",
       " 'https://www.goodreads.com/book/show/269746.Catering_to_Nobody',\n",
       " 'https://www.goodreads.com/book/show/6443402-bookplate-special',\n",
       " 'https://www.goodreads.com/book/show/6344832-grave-secret',\n",
       " 'https://www.goodreads.com/book/show/462033.Maisie_Dobbs',\n",
       " 'https://www.goodreads.com/book/show/33439.Strawberry_Shortcake_Murder',\n",
       " 'https://www.goodreads.com/book/show/6218281-the-sweetness-at-the-bottom-of-the-pie',\n",
       " 'https://www.goodreads.com/book/show/33438.Peach_Cobbler_Murder',\n",
       " 'https://www.goodreads.com/book/show/8173806-this-pen-for-hire',\n",
       " 'https://www.goodreads.com/book/show/6238524-the-cat-the-quilt-and-the-corpse',\n",
       " 'https://www.goodreads.com/book/show/367063.Crewel_World',\n",
       " 'https://www.goodreads.com/book/show/6367212-plum-pudding-murder',\n",
       " 'https://www.goodreads.com/book/show/181667.The_Vicious_Vet',\n",
       " 'https://www.goodreads.com/book/show/3384459-eggs-in-purgatory',\n",
       " 'https://www.goodreads.com/book/show/338691.Still_Life',\n",
       " 'https://www.goodreads.com/book/show/22522007-tracing-the-contours',\n",
       " 'https://www.goodreads.com/book/show/508903.The_Cat_Who_Could_Read_Backwards',\n",
       " 'https://www.goodreads.com/book/show/301082.Dead_Until_Dark',\n",
       " 'https://www.goodreads.com/book/show/139176.The_Quiche_of_Death',\n",
       " 'https://www.goodreads.com/book/show/853510.Murder_on_the_Orient_Express',\n",
       " 'https://www.goodreads.com/book/show/58077.Grave_Sight',\n",
       " 'https://www.goodreads.com/book/show/33442.Sugar_Cookie_Murder',\n",
       " 'https://www.goodreads.com/book/show/140097.An_Ice_Cold_Grave',\n",
       " 'https://www.goodreads.com/book/show/140096.The_Julius_House',\n",
       " 'https://www.goodreads.com/book/show/41022009-cocaine-blues',\n",
       " 'https://www.goodreads.com/book/show/347697.The_Cat_Who_Blew_the_Whistle',\n",
       " 'https://www.goodreads.com/book/show/853520.Death_on_Demand',\n",
       " 'https://www.goodreads.com/book/show/545766.Murder_with_Peacocks',\n",
       " 'https://www.goodreads.com/book/show/574955.Abby_Cooper_Psychic_Eye',\n",
       " 'https://www.goodreads.com/book/show/686718.Murder_on_Astor_Place',\n",
       " 'https://www.goodreads.com/book/show/6463372-i-scream-you-scream',\n",
       " 'https://www.goodreads.com/book/show/21899683-a-dead-sister',\n",
       " 'https://www.goodreads.com/book/show/17185170-back-on-the-market',\n",
       " 'https://www.goodreads.com/book/show/149355.The_Amazing_Mrs_Pollifax',\n",
       " 'https://www.goodreads.com/book/show/6077869-homicide-in-hardcover',\n",
       " 'https://www.goodreads.com/book/show/129117.The_Spellman_Files',\n",
       " 'https://www.goodreads.com/book/show/2586724-murder-is-binding',\n",
       " 'https://www.goodreads.com/book/show/23220.Size_12_Is_Not_Fat',\n",
       " 'https://www.goodreads.com/book/show/33440.Lemon_Meringue_Pie_Murder',\n",
       " 'https://www.goodreads.com/book/show/165341.Murder_at_Monticello',\n",
       " 'https://www.goodreads.com/book/show/7061.The_No_1_Ladies_Detective_Agency',\n",
       " 'https://www.goodreads.com/book/show/518518.The_Chocolate_Cat_Caper',\n",
       " 'https://www.goodreads.com/book/show/352427.Mum_s_the_Word',\n",
       " 'https://www.goodreads.com/book/show/140091.Real_Murders',\n",
       " 'https://www.goodreads.com/book/show/213472.Death_of_a_Cad',\n",
       " 'https://www.goodreads.com/book/show/508572.Miss_Zukas_and_the_Library_Murders',\n",
       " 'https://www.goodreads.com/book/show/171349.Murder_on_a_Girls_Night_Out',\n",
       " 'https://www.goodreads.com/book/show/7039.Tears_of_the_Giraffe',\n",
       " 'https://www.goodreads.com/book/show/32516.Shakespeare_s_Trollop',\n",
       " 'https://www.goodreads.com/book/show/129537.What_s_a_Ghoul_to_Do_',\n",
       " 'https://www.goodreads.com/book/show/140524.The_Unexpected_Mrs_Pollifax',\n",
       " 'https://www.goodreads.com/book/show/6048530-finger-lickin-fifteen',\n",
       " 'https://www.goodreads.com/book/show/140090.Three_Bedrooms_One_Corpse',\n",
       " 'https://www.goodreads.com/book/show/7023554-sizzling-sixteen',\n",
       " 'https://www.goodreads.com/book/show/363613.Pick_Your_Poison',\n",
       " 'https://www.goodreads.com/book/show/16299.And_Then_There_Were_None',\n",
       " 'https://www.goodreads.com/book/show/40881649-crocodile-on-the-sandbank',\n",
       " 'https://www.goodreads.com/book/show/207687.Big_Boned',\n",
       " 'https://www.goodreads.com/book/show/16328.The_Murder_of_Roger_Ackroyd',\n",
       " 'https://www.goodreads.com/book/show/6957009-apple-turnover-murder',\n",
       " 'https://www.goodreads.com/book/show/16331.Murder_at_the_Vicarage',\n",
       " 'https://www.goodreads.com/book/show/140093.A_Bone_to_Pick',\n",
       " 'https://www.goodreads.com/book/show/16325.Partners_in_Crime',\n",
       " 'https://www.goodreads.com/book/show/6633516-sprinkle-with-murder',\n",
       " 'https://www.goodreads.com/book/show/3712764-bookmarked-for-death',\n",
       " 'https://www.goodreads.com/book/show/6456016-secondhand-spirits',\n",
       " 'https://www.goodreads.com/book/show/6419.Plum_Lovin_',\n",
       " 'https://www.goodreads.com/book/show/33436.Key_Lime_Pie_Murder',\n",
       " 'https://www.goodreads.com/book/show/8205669-wicked-appetite',\n",
       " 'https://www.goodreads.com/book/show/16361.The_Secret_of_Chimneys',\n",
       " 'https://www.goodreads.com/book/show/813740.How_to_Murder_a_Millionaire',\n",
       " 'https://www.goodreads.com/book/show/383514.Her_Royal_Spyness',\n",
       " 'https://www.goodreads.com/book/show/136862.Fudge_Cupcake_Murder',\n",
       " 'https://www.goodreads.com/book/show/3649472-fatal-fixer-upper',\n",
       " 'https://www.goodreads.com/book/show/303639.On_What_Grounds',\n",
       " 'https://www.goodreads.com/book/show/8857.Death_of_a_Gossip',\n",
       " 'https://www.goodreads.com/book/show/9745415-books-can-be-deceiving',\n",
       " 'https://www.goodreads.com/book/show/761668.Thyme_of_Death',\n",
       " 'https://www.goodreads.com/book/show/1284050.Demons_are_a_Ghoul_s_Best_Friend',\n",
       " 'https://www.goodreads.com/book/show/638247.Death_at_Wentwater_Court']"
      ]
     },
     "execution_count": 8,
     "metadata": {},
     "output_type": "execute_result"
    }
   ],
   "source": [
    "product_links"
   ]
  },
  {
   "cell_type": "code",
   "execution_count": 10,
   "metadata": {},
   "outputs": [],
   "source": [
    "test_link=\"https://www.goodreads.com/book/show/16331.Murder_at_the_Vicarage\""
   ]
  },
  {
   "cell_type": "code",
   "execution_count": 11,
   "metadata": {},
   "outputs": [],
   "source": [
    "r=requests.get(test_link)\n",
    "soup=BeautifulSoup(r.text,'lxml')"
   ]
  },
  {
   "cell_type": "code",
   "execution_count": 13,
   "metadata": {},
   "outputs": [
    {
     "data": {
      "text/plain": [
       "'Murder at the Vicarage'"
      ]
     },
     "execution_count": 13,
     "metadata": {},
     "output_type": "execute_result"
    }
   ],
   "source": [
    "soup.find('h1').text"
   ]
  },
  {
   "cell_type": "code",
   "execution_count": 14,
   "metadata": {},
   "outputs": [
    {
     "data": {
      "text/plain": [
       "'Murder at the Vicarage'"
      ]
     },
     "execution_count": 14,
     "metadata": {},
     "output_type": "execute_result"
    }
   ],
   "source": [
    "Name=soup.find('h1').text\n",
    "Name"
   ]
  },
  {
   "cell_type": "code",
   "execution_count": 15,
   "metadata": {},
   "outputs": [
    {
     "data": {
      "text/plain": [
       "'Agatha Christie'"
      ]
     },
     "execution_count": 15,
     "metadata": {},
     "output_type": "execute_result"
    }
   ],
   "source": [
    "Contributor_Name= soup.find('span', class_='ContributorLink__name').text\n",
    "Contributor_Name"
   ]
  },
  {
   "cell_type": "code",
   "execution_count": 16,
   "metadata": {},
   "outputs": [
    {
     "name": "stdout",
     "output_type": "stream",
     "text": [
      "4.05\n"
     ]
    }
   ],
   "source": [
    "rating_text = soup.find('span', class_='RatingStars RatingStars__medium')['aria-label']\n",
    "rating = float(rating_text.split()[1])\n",
    "print(rating)"
   ]
  },
  {
   "cell_type": "code",
   "execution_count": 17,
   "metadata": {},
   "outputs": [
    {
     "data": {
      "text/plain": [
       "187812"
      ]
     },
     "execution_count": 17,
     "metadata": {},
     "output_type": "execute_result"
    }
   ],
   "source": [
    "rating_count_text = soup.find('span', {'data-testid': 'ratingsCount'}).text\n",
    "rating_count = int(rating_count_text.replace(',', '').split()[0])\n",
    "rating_count"
   ]
  },
  {
   "cell_type": "code",
   "execution_count": 18,
   "metadata": {},
   "outputs": [
    {
     "data": {
      "text/plain": [
       "7351"
      ]
     },
     "execution_count": 18,
     "metadata": {},
     "output_type": "execute_result"
    }
   ],
   "source": [
    "reviews_count_text = soup.find('span', class_='u-dot-before').text\n",
    "reviews_count = int(reviews_count_text.replace(',', '').split()[0])\n",
    "reviews_count"
   ]
  },
  {
   "cell_type": "code",
   "execution_count": 19,
   "metadata": {},
   "outputs": [
    {
     "data": {
      "text/plain": [
       "'288 pages, Hardcover'"
      ]
     },
     "execution_count": 19,
     "metadata": {},
     "output_type": "execute_result"
    }
   ],
   "source": [
    "Format=soup.find('p').text\n",
    "Format"
   ]
  },
  {
   "cell_type": "code",
   "execution_count": 28,
   "metadata": {},
   "outputs": [
    {
     "name": "stdout",
     "output_type": "stream",
     "text": [
      "{'Name': 'Truly, Madly', 'Author': 'Heather Webber', 'rating': 3.92, 'rating_count': 6997, 'reviews_count': 1152, 'Format': '305 pages, Kindle Edition'}\n",
      "{'Name': 'Blueberry Muffin Murder', 'Author': 'Joanne Fluke', 'rating': 3.89, 'rating_count': 24079, 'reviews_count': 1358, 'Format': '310 pages, Paperback'}\n",
      "{'Name': \"Why Didn't They Ask Evans?\", 'Author': 'Agatha Christie', 'rating': 3.9, 'rating_count': 34010, 'reviews_count': 2596, 'Format': '288 pages, Mass Market Paperback'}\n",
      "{'Name': 'Angels & Demons', 'Author': 'Dan       Brown', 'rating': 3.94, 'rating_count': 3184346, 'reviews_count': 33792, 'Format': '736 pages, Mass Market Paperback'}\n",
      "{'Name': 'The Tale of Hill Top Farm', 'Author': 'Susan Wittig Albert', 'rating': 3.91, 'rating_count': 4017, 'reviews_count': 536, 'Format': '286 pages, Hardcover'}\n",
      "{'Name': \"Aunt Dimity's Death\", 'Author': 'Nancy Atherton', 'rating': 3.96, 'rating_count': 13801, 'reviews_count': 1440, 'Format': '244 pages, Mass Market Paperback'}\n",
      "{'Name': 'The Trouble With Magic', 'Author': 'Madelyn Alt', 'rating': 3.69, 'rating_count': 7276, 'reviews_count': 554, 'Format': \"Antiques-shop clerk Maggie O'Neill was a little weirded out when she discovered her new boss Felicity was a witch. But when Felicity becomes the suspect in a local murder, Maggie must enlist Felicity's wiccan friends for help--and discover her own spellbinding talent.\"}\n",
      "{'Name': 'The Mysterious Affair at Styles', 'Author': 'Agatha Christie', 'rating': 4.0, 'rating_count': 419449, 'reviews_count': 16102, 'Format': '174 pages, Paperback'}\n",
      "{'Name': 'The Diva Runs Out of Thyme', 'Author': 'Krista Davis', 'rating': 3.95, 'rating_count': 6910, 'reviews_count': 736, 'Format': '292 pages, Mass Market Paperback'}\n",
      "{'Name': 'The Ghost and Mrs. McClure', 'Author': 'Alice Kimberly', 'rating': 3.79, 'rating_count': 6754, 'reviews_count': 641, 'Format': '261 pages, Paperback'}\n",
      "{'Name': 'Chocolate Chip Cookie Murder', 'Author': 'Joanne Fluke', 'rating': 3.69, 'rating_count': 62280, 'reviews_count': 4934, 'Format': '436 pages, Mass Market Paperback'}\n",
      "{'Name': 'Knit One, Kill Two', 'Author': 'Maggie Sefton', 'rating': 3.57, 'rating_count': 7732, 'reviews_count': 914, 'Format': '273 pages, Mass Market Paperback'}\n",
      "{'Name': \"Shakespeare's Landlord\", 'Author': 'Charlaine Harris', 'rating': 3.77, 'rating_count': 27446, 'reviews_count': 1534, 'Format': '216 pages, Mass Market Paperback'}\n",
      "{'Name': 'One Bad Apple', 'Author': 'Sheila Connolly', 'rating': 3.81, 'rating_count': 4177, 'reviews_count': 330, 'Format': '262 pages, Mass Market Paperback'}\n",
      "{'Name': 'Death by Darjeeling', 'Author': 'Laura Childs', 'rating': 3.73, 'rating_count': 11434, 'reviews_count': 1032, 'Format': '243 pages, Mass Market Paperback'}\n",
      "{'Name': 'One for the Money', 'Author': 'Janet Evanovich', 'rating': 4.05, 'rating_count': 549369, 'reviews_count': 17108, 'Format': '320 pages, Paperback'}\n",
      "{'Name': 'Carrot Cake Murder', 'Author': 'Joanne Fluke', 'rating': 3.84, 'rating_count': 15074, 'reviews_count': 831, 'Format': '324 pages, Hardcover'}\n",
      "{'Name': 'A Killer Plot', 'Author': 'Ellery Adams', 'rating': 3.78, 'rating_count': 6005, 'reviews_count': 628, 'Format': '311 pages, Mass Market Paperback'}\n",
      "{'Name': 'Body Movers', 'Author': 'Stephanie Bond', 'rating': 3.87, 'rating_count': 14252, 'reviews_count': 728, 'Format': '384 pages, Mass Market Paperback'}\n",
      "{'Name': 'Size 14 Is Not Fat Either', 'Author': 'Meg Cabot', 'rating': 3.84, 'rating_count': 31192, 'reviews_count': 1227, 'Format': '344 pages, Paperback'}\n",
      "{'Name': 'Poppy Done to Death', 'Author': 'Charlaine Harris', 'rating': 3.88, 'rating_count': 15391, 'reviews_count': 655, 'Format': '256 pages, Mass Market Paperback'}\n",
      "{'Name': 'Catering to Nobody', 'Author': 'Diane Mott Davidson', 'rating': 3.83, 'rating_count': 21530, 'reviews_count': 1054, 'Format': '301 pages, Mass Market Paperback'}\n",
      "{'Name': 'Bookplate Special', 'Author': 'Lorna Barrett', 'rating': 3.79, 'rating_count': 5886, 'reviews_count': 476, 'Format': '301 pages, Mass Market Paperback'}\n",
      "{'Name': 'Grave Secret', 'Author': 'Charlaine Harris', 'rating': 3.97, 'rating_count': 30009, 'reviews_count': 1661, 'Format': 'Lightning-struck sleuth Harper Connelly and her stepbrother Tolliver take a break from looking for the dead to visit the two little girls they both think of as sisters. But, as always happens when they travel to Texas, memories of their horrible childhood resurface...'}\n",
      "{'Name': 'Maisie Dobbs', 'Author': 'Jacqueline Winspear', 'rating': 3.92, 'rating_count': 110123, 'reviews_count': 9843, 'Format': '292 pages, Paperback'}\n",
      "{'Name': 'Strawberry Shortcake Murder', 'Author': 'Joanne Fluke', 'rating': 3.85, 'rating_count': 26484, 'reviews_count': 1731, 'Format': '310 pages, Paperback'}\n",
      "{'Name': 'The Sweetness at the Bottom of the Pie', 'Author': 'Alan Bradley', 'rating': 3.82, 'rating_count': 168280, 'reviews_count': 18183, 'Format': '374 pages, Hardcover'}\n",
      "{'Name': 'Peach Cobbler Murder', 'Author': 'Joanne Fluke', 'rating': 3.92, 'rating_count': 17886, 'reviews_count': 942, 'Format': '360 pages, Mass Market Paperback'}\n",
      "Error occurred while scraping 'rating' in link: https://www.goodreads.com/book/show/8173806-this-pen-for-hire\n",
      "Error occurred while scraping 'rating_count' in link: https://www.goodreads.com/book/show/8173806-this-pen-for-hire\n",
      "Error occurred while scraping 'reviews_count' in link: https://www.goodreads.com/book/show/8173806-this-pen-for-hire\n",
      "{'Name': 'Sorry, we couldn’t find the page you were looking for.', 'Author': None, 'rating': None, 'rating_count': None, 'reviews_count': None, 'Format': '© 2024 Goodreads, Inc.'}\n",
      "{'Name': 'The Cat, the Quilt and the Corpse', 'Author': 'Leann Sweeney', 'rating': 3.95, 'rating_count': 3270, 'reviews_count': 380, 'Format': '278 pages, Mass Market Paperback'}\n",
      "{'Name': 'Crewel World', 'Author': 'Monica Ferris', 'rating': 3.76, 'rating_count': 4489, 'reviews_count': 401, 'Format': '245 pages, Mass Market Paperback'}\n",
      "{'Name': 'Plum Pudding Murder', 'Author': 'Joanne Fluke', 'rating': 3.81, 'rating_count': 13435, 'reviews_count': 868, 'Format': '307 pages, Hardcover'}\n",
      "{'Name': 'The Vicious Vet', 'Author': 'M.C. Beaton', 'rating': 3.73, 'rating_count': 22403, 'reviews_count': 1851, 'Format': '198 pages, Paperback'}\n",
      "{'Name': 'Eggs in Purgatory', 'Author': 'Laura Childs', 'rating': 3.76, 'rating_count': 3595, 'reviews_count': 317, 'Format': '289 pages, Mass Market Paperback'}\n",
      "{'Name': 'Still Life', 'Author': 'Louise Penny', 'rating': 3.9, 'rating_count': 246968, 'reviews_count': 19875, 'Format': '293 pages, Mass Market Paperback'}\n",
      "{'Name': 'Tracing the Contours', 'Author': 'Honor Amelia Dawson', 'rating': 4.56, 'rating_count': 88, 'reviews_count': 6, 'Format': 'Kindle Edition'}\n",
      "{'Name': 'The Cat Who Could Read Backwards', 'Author': 'Lilian Jackson Braun', 'rating': 3.86, 'rating_count': 31733, 'reviews_count': 1627, 'Format': '256 pages, Paperback'}\n",
      "{'Name': 'Dead Until Dark', 'Author': 'Charlaine Harris', 'rating': 3.97, 'rating_count': 538783, 'reviews_count': 20102, 'Format': '292 pages, Mass Market Paperback'}\n",
      "{'Name': 'The Quiche of Death', 'Author': 'M.C. Beaton', 'rating': 3.73, 'rating_count': 37360, 'reviews_count': 4193, 'Format': '246 pages, Mass Market Paperback'}\n",
      "{'Name': 'Murder on the Orient Express', 'Author': 'Agatha Christie', 'rating': 4.2, 'rating_count': 616492, 'reviews_count': 39941, 'Format': '274 pages, Paperback'}\n",
      "{'Name': 'Grave Sight', 'Author': 'Charlaine Harris', 'rating': 3.87, 'rating_count': 64593, 'reviews_count': 2735, 'Format': '293 pages, Mass Market Paperback'}\n",
      "{'Name': 'Sugar Cookie Murder', 'Author': 'Joanne Fluke', 'rating': 3.73, 'rating_count': 18812, 'reviews_count': 1232, 'Format': '380 pages, Paperback'}\n",
      "{'Name': 'An Ice Cold Grave', 'Author': 'Charlaine Harris', 'rating': 3.96, 'rating_count': 36005, 'reviews_count': 1569, 'Format': '280 pages, Hardcover'}\n",
      "{'Name': 'The Julius House', 'Author': 'Charlaine Harris', 'rating': 3.85, 'rating_count': 19003, 'reviews_count': 823, 'Format': '256 pages, Mass Market Paperback'}\n",
      "{'Name': 'Cocaine Blues', 'Author': 'Kerry Greenwood', 'rating': 3.83, 'rating_count': 26461, 'reviews_count': 3136, 'Format': '185 pages, Kindle Edition'}\n",
      "{'Name': 'The Cat Who Blew the Whistle', 'Author': 'Lilian Jackson Braun', 'rating': 3.89, 'rating_count': 7270, 'reviews_count': 326, 'Format': '320 pages, Paperback'}\n",
      "{'Name': 'Death on Demand', 'Author': 'Carolyn G. Hart', 'rating': 3.85, 'rating_count': 8435, 'reviews_count': 403, 'Format': '195 pages, Mass Market Paperback'}\n",
      "{'Name': 'Murder with Peacocks', 'Author': 'Donna Andrews', 'rating': 3.89, 'rating_count': 12029, 'reviews_count': 1326, 'Format': '311 pages, Mass Market Paperback'}\n",
      "{'Name': 'Abby Cooper, Psychic Eye', 'Author': 'Victoria Laurie', 'rating': 3.94, 'rating_count': 14330, 'reviews_count': 1058, 'Format': '295 pages, Mass Market Paperback'}\n",
      "{'Name': 'Murder on Astor Place', 'Author': 'Victoria Thompson', 'rating': 3.9, 'rating_count': 13943, 'reviews_count': 1396, 'Format': '278 pages, Mass Market Paperback'}\n",
      "{'Name': 'I Scream, You Scream', 'Author': 'Wendy Lyn Watson', 'rating': 3.74, 'rating_count': 1904, 'reviews_count': 197, 'Format': '320 pages, Mass Market Paperback'}\n",
      "{'Name': 'A Dead Sister', 'Author': 'Anna Celeste Burke', 'rating': 4.48, 'rating_count': 474, 'reviews_count': 70, 'Format': '332 pages, Paperback'}\n",
      "{'Name': 'Back on the Market', 'Author': 'L.A. Frazier', 'rating': 4.3, 'rating_count': 151, 'reviews_count': 34, 'Format': '274 pages, Paperback'}\n",
      "{'Name': 'The Amazing Mrs. Pollifax', 'Author': 'Dorothy Gilman', 'rating': 4.17, 'rating_count': 10924, 'reviews_count': 908, 'Format': '176 pages, Mass Market Paperback'}\n",
      "{'Name': 'Homicide in Hardcover', 'Author': 'Kate Carlisle', 'rating': 3.8, 'rating_count': 10508, 'reviews_count': 1181, 'Format': '289 pages, Mass Market Paperback'}\n",
      "{'Name': 'The Spellman Files', 'Author': 'Lisa Lutz', 'rating': 3.87, 'rating_count': 35767, 'reviews_count': 4086, 'Format': '6 pages, Audio CD'}\n",
      "{'Name': 'Murder is Binding', 'Author': 'Lorna Barrett', 'rating': 3.67, 'rating_count': 12811, 'reviews_count': 1296, 'Format': '281 pages, Mass Market Paperback'}\n",
      "{'Name': 'Size 12 Is Not Fat', 'Author': 'Meg Cabot', 'rating': 3.76, 'rating_count': 87825, 'reviews_count': 2935, 'Format': '345 pages, Paperback'}\n",
      "{'Name': 'Lemon Meringue Pie Murder', 'Author': 'Joanne Fluke', 'rating': 3.86, 'rating_count': 20786, 'reviews_count': 1192, 'Format': '348 pages, Paperback'}\n",
      "{'Name': 'Murder at Monticello', 'Author': 'Rita Mae Brown', 'rating': 3.87, 'rating_count': 4885, 'reviews_count': 223, 'Format': '284 pages, Mass Market Paperback'}\n",
      "{'Name': \"The No. 1 Ladies' Detective Agency\", 'Author': 'Alexander McCall Smith', 'rating': 3.81, 'rating_count': 264412, 'reviews_count': 13191, 'Format': '235 pages, Paperback'}\n",
      "{'Name': 'The Chocolate Cat Caper', 'Author': 'JoAnna Carl', 'rating': 3.73, 'rating_count': 4209, 'reviews_count': 322, 'Format': 'Clementine Ripley, the defense attorney everyone loves to hate, is throwing a party that calls for several thousand dollars worth of custom chocolates -- some made in the image of her champion cat. Lee jumps at the job, but sweet success takes a bitter turn when someone adds an extra ingredient -- cyanide -- to one of their delicious chocolates and it finds its way into Ms. Ripley’s mouth. Now it’s up to Lee to figure out who tampered with Aunt Nettie’s recipe before they find themselves behind not-so-chocolate bars.'}\n",
      "{'Name': \"Mum's the Word\", 'Author': 'Kate Collins', 'rating': 3.75, 'rating_count': 5807, 'reviews_count': 453, 'Format': '304 pages, Mass Market Paperback'}\n",
      "{'Name': 'Real Murders', 'Author': 'Charlaine Harris', 'rating': 3.68, 'rating_count': 34598, 'reviews_count': 2613, 'Format': '175 pages, Hardcover'}\n",
      "{'Name': 'Death of a Cad', 'Author': 'M.C. Beaton', 'rating': 3.82, 'rating_count': 11666, 'reviews_count': 770, 'Format': '214 pages, Mass Market Paperback'}\n",
      "{'Name': 'Miss Zukas and the Library Murders', 'Author': 'Jo Dereske', 'rating': 3.74, 'rating_count': 1497, 'reviews_count': 143, 'Format': '218 pages, Mass Market Paperback'}\n",
      "{'Name': \"Murder on a Girls' Night Out\", 'Author': 'Anne George', 'rating': 4.04, 'rating_count': 7004, 'reviews_count': 581, 'Format': '244 pages, Mass Market Paperback'}\n",
      "{'Name': 'Tears of the Giraffe', 'Author': 'Alexander McCall Smith', 'rating': 3.98, 'rating_count': 56697, 'reviews_count': 3358, 'Format': '233 pages, Paperback'}\n",
      "{'Name': \"Shakespeare's Trollop\", 'Author': 'Charlaine Harris', 'rating': 3.88, 'rating_count': 15065, 'reviews_count': 523, 'Format': '194 pages, Mass Market Paperback'}\n",
      "{'Name': \"What's a Ghoul to Do?\", 'Author': 'Victoria Laurie', 'rating': 3.88, 'rating_count': 8577, 'reviews_count': 625, 'Format': '281 pages, Mass Market Paperback'}\n",
      "{'Name': 'The Unexpected Mrs. Pollifax', 'Author': 'Dorothy Gilman', 'rating': 4.16, 'rating_count': 27245, 'reviews_count': 2630, 'Format': '204 pages, Paperback'}\n",
      "{'Name': \"Finger Lickin' Fifteen\", 'Author': 'Janet Evanovich', 'rating': 4.02, 'rating_count': 90105, 'reviews_count': 4473, 'Format': '308 pages, Hardcover'}\n",
      "{'Name': 'Three Bedrooms, One Corpse', 'Author': 'Charlaine Harris', 'rating': 3.81, 'rating_count': 20597, 'reviews_count': 967, 'Format': '256 pages, Mass Market Paperback'}\n",
      "{'Name': 'Sizzling Sixteen', 'Author': 'Janet Evanovich', 'rating': 3.97, 'rating_count': 81814, 'reviews_count': 4322, 'Format': '371 pages, Paperback'}\n",
      "{'Name': 'Pick Your Poison', 'Author': 'Leann Sweeney', 'rating': 3.79, 'rating_count': 1873, 'reviews_count': 140, 'Format': '258 pages, Mass Market Paperback'}\n",
      "{'Name': 'And Then There Were None', 'Author': 'Agatha Christie', 'rating': 4.28, 'rating_count': 1343128, 'reviews_count': 63662, 'Format': '264 pages, Paperback'}\n",
      "{'Name': 'Crocodile on the Sandbank', 'Author': 'Elizabeth Peters', 'rating': 4.0, 'rating_count': 73814, 'reviews_count': 5512, 'Format': '262 pages, Kindle Edition'}\n",
      "{'Name': 'Big Boned', 'Author': 'Meg Cabot', 'rating': 3.84, 'rating_count': 23152, 'reviews_count': 1250, 'Format': '280 pages, Paperback'}\n",
      "{'Name': 'The Murder of Roger Ackroyd', 'Author': 'Agatha Christie', 'rating': 4.27, 'rating_count': 270947, 'reviews_count': 22116, 'Format': '288 pages, Hardcover'}\n",
      "{'Name': 'Apple Turnover Murder', 'Author': 'Joanne Fluke', 'rating': 3.78, 'rating_count': 13316, 'reviews_count': 935, 'Format': '304 pages, Hardcover'}\n",
      "{'Name': 'Murder at the Vicarage', 'Author': 'Agatha Christie', 'rating': 4.05, 'rating_count': 187814, 'reviews_count': 7352, 'Format': '288 pages, Hardcover'}\n",
      "{'Name': 'A Bone to Pick', 'Author': 'Charlaine Harris', 'rating': 3.75, 'rating_count': 24113, 'reviews_count': 1288, 'Format': '168 pages, Hardcover'}\n",
      "{'Name': 'Partners in Crime', 'Author': 'Agatha Christie', 'rating': 3.77, 'rating_count': 20921, 'reviews_count': 1692, 'Format': '347 pages, Paperback'}\n",
      "{'Name': 'Sprinkle with Murder', 'Author': 'Jenn McKinlay', 'rating': 3.87, 'rating_count': 10351, 'reviews_count': 1076, 'Format': '222 pages, Mass Market Paperback'}\n",
      "{'Name': 'Bookmarked for Death', 'Author': 'Lorna Barrett', 'rating': 3.8, 'rating_count': 7126, 'reviews_count': 588, 'Format': '297 pages, Paperback'}\n",
      "{'Name': 'Secondhand Spirits', 'Author': 'Juliet Blackwell', 'rating': 3.88, 'rating_count': 11763, 'reviews_count': 1151, 'Format': '314 pages, Mass Market Paperback'}\n",
      "{'Name': \"Plum Lovin'\", 'Author': 'Janet Evanovich', 'rating': 3.75, 'rating_count': 56461, 'reviews_count': 1845, 'Format': '164 pages, Hardcover'}\n",
      "{'Name': 'Key Lime Pie Murder', 'Author': 'Joanne Fluke', 'rating': 3.84, 'rating_count': 16167, 'reviews_count': 903, 'Format': '342 pages, Hardcover'}\n",
      "{'Name': 'Wicked Appetite', 'Author': 'Janet Evanovich', 'rating': 3.79, 'rating_count': 58313, 'reviews_count': 4991, 'Format': '319 pages, Hardcover'}\n",
      "{'Name': 'The Secret of Chimneys', 'Author': 'Agatha Christie', 'rating': 3.85, 'rating_count': 27352, 'reviews_count': 2150, 'Format': '400 pages, Paperback'}\n",
      "{'Name': 'How to Murder a Millionaire', 'Author': 'Nancy Martin', 'rating': 3.83, 'rating_count': 4972, 'reviews_count': 369, 'Format': '266 pages, Mass Market Paperback'}\n",
      "{'Name': 'Her Royal Spyness', 'Author': 'Rhys Bowen', 'rating': 3.81, 'rating_count': 37352, 'reviews_count': 3681, 'Format': '324 pages, Paperback'}\n",
      "{'Name': 'Fudge Cupcake Murder', 'Author': 'Joanne Fluke', 'rating': 3.91, 'rating_count': 21132, 'reviews_count': 1024, 'Format': '313 pages, Paperback'}\n",
      "{'Name': 'Fatal Fixer-Upper', 'Author': 'Jennie Bentley', 'rating': 3.95, 'rating_count': 3552, 'reviews_count': 275, 'Format': '332 pages, Mass Market Paperback'}\n",
      "{'Name': 'On What Grounds', 'Author': 'Cleo Coyle', 'rating': 3.68, 'rating_count': 17031, 'reviews_count': 1823, 'Format': '275 pages, Mass Market Paperback'}\n",
      "{'Name': 'Death of a Gossip', 'Author': 'M.C. Beaton', 'rating': 3.66, 'rating_count': 18319, 'reviews_count': 1560, 'Format': '179 pages, Paperback'}\n",
      "{'Name': 'Books Can Be Deceiving', 'Author': 'Jenn McKinlay', 'rating': 3.84, 'rating_count': 10948, 'reviews_count': 1430, 'Format': '282 pages, Mass Market Paperback'}\n",
      "{'Name': 'Thyme of Death', 'Author': 'Susan Wittig Albert', 'rating': 3.84, 'rating_count': 8542, 'reviews_count': 487, 'Format': '320 pages, Mass Market Paperback'}\n",
      "{'Name': \"Demons are a Ghoul's Best Friend\", 'Author': 'Victoria Laurie', 'rating': 4.06, 'rating_count': 6488, 'reviews_count': 326, 'Format': '282 pages, Mass Market Paperback'}\n",
      "{'Name': 'Death at Wentwater Court', 'Author': 'Carola Dunn', 'rating': 3.7, 'rating_count': 11145, 'reviews_count': 1082, 'Format': '252 pages, Mass Market Paperback'}\n"
     ]
    }
   ],
   "source": [
    "product_data = []\n",
    "\n",
    "for link in product_links:\n",
    "    try:\n",
    "        r = requests.get(link)\n",
    "        soup = BeautifulSoup(r.text, 'lxml')\n",
    "\n",
    "        try:\n",
    "            h1_tag = soup.find('h1')\n",
    "            if h1_tag:\n",
    "                Name = h1_tag.text.strip()\n",
    "            else:\n",
    "                Name = None\n",
    "        except AttributeError:\n",
    "            print(\"Error occurred while scraping 'h1' tag in link:\", link)\n",
    "            Name = None\n",
    "\n",
    "        try:\n",
    "            contributor_tag = soup.find('span', class_='ContributorLink__name')\n",
    "            if contributor_tag:\n",
    "                Contributor_Name = contributor_tag.text.strip()\n",
    "            else:\n",
    "                Contributor_Name = None\n",
    "        except AttributeError:\n",
    "            print(\"Error occurred while scraping 'ContributorLink__name' in link:\", link)\n",
    "            Contributor_Name = None\n",
    "\n",
    "        rating_text = soup.find('span', class_='RatingStars RatingStars__medium')\n",
    "        if rating_text:\n",
    "            try:\n",
    "                rating = float(rating_text['aria-label'].split()[1])\n",
    "            except (IndexError, ValueError):\n",
    "                print(\"Error occurred while scraping 'rating' in link:\", link)\n",
    "                rating = None\n",
    "        else:\n",
    "            print(\"Error occurred while scraping 'rating' in link:\", link)\n",
    "            rating = None\n",
    "\n",
    "        try:\n",
    "            rating_count_text = soup.find('span', {'data-testid': 'ratingsCount'}).text\n",
    "            rating_count = int(rating_count_text.replace(',', '').split()[0])\n",
    "        except (AttributeError, ValueError):\n",
    "            print(\"Error occurred while scraping 'rating_count' in link:\", link)\n",
    "            rating_count = None\n",
    "\n",
    "        try:\n",
    "            reviews_count_text = soup.find('span', class_='u-dot-before').text\n",
    "            reviews_count = int(reviews_count_text.replace(',', '').split()[0])\n",
    "        except (AttributeError, ValueError):\n",
    "            print(\"Error occurred while scraping 'reviews_count' in link:\", link)\n",
    "            reviews_count = None\n",
    "\n",
    "        try:\n",
    "            Format = soup.find('p').text.strip()\n",
    "        except AttributeError:\n",
    "            print(\"Error occurred while scraping 'Format' in link:\", link)\n",
    "            Format = None\n",
    "\n",
    "        Book = {'Name': Name, 'Author': Contributor_Name, 'rating': rating, 'rating_count': rating_count,\n",
    "                'reviews_count': reviews_count, 'Format': Format}\n",
    "        print(Book)\n",
    "        product_data.append(Book)\n",
    "    except requests.exceptions.RequestException as e:\n",
    "        print(\"Error occurred while making a request to the link:\", link)\n",
    "        print(e)\n"
   ]
  },
  {
   "cell_type": "code",
   "execution_count": 49,
   "metadata": {},
   "outputs": [],
   "source": [
    "df=pd.DataFrame(product_data)"
   ]
  },
  {
   "cell_type": "code",
   "execution_count": 50,
   "metadata": {},
   "outputs": [
    {
     "data": {
      "text/html": [
       "<div>\n",
       "<style scoped>\n",
       "    .dataframe tbody tr th:only-of-type {\n",
       "        vertical-align: middle;\n",
       "    }\n",
       "\n",
       "    .dataframe tbody tr th {\n",
       "        vertical-align: top;\n",
       "    }\n",
       "\n",
       "    .dataframe thead th {\n",
       "        text-align: right;\n",
       "    }\n",
       "</style>\n",
       "<table border=\"1\" class=\"dataframe\">\n",
       "  <thead>\n",
       "    <tr style=\"text-align: right;\">\n",
       "      <th></th>\n",
       "      <th>Name</th>\n",
       "      <th>Author</th>\n",
       "      <th>rating</th>\n",
       "      <th>rating_count</th>\n",
       "      <th>reviews_count</th>\n",
       "      <th>Format</th>\n",
       "    </tr>\n",
       "  </thead>\n",
       "  <tbody>\n",
       "    <tr>\n",
       "      <th>0</th>\n",
       "      <td>Truly, Madly</td>\n",
       "      <td>Heather Webber</td>\n",
       "      <td>3.92</td>\n",
       "      <td>6997.0</td>\n",
       "      <td>1152.0</td>\n",
       "      <td>305 pages, Kindle Edition</td>\n",
       "    </tr>\n",
       "    <tr>\n",
       "      <th>1</th>\n",
       "      <td>Blueberry Muffin Murder</td>\n",
       "      <td>Joanne Fluke</td>\n",
       "      <td>3.89</td>\n",
       "      <td>24079.0</td>\n",
       "      <td>1358.0</td>\n",
       "      <td>310 pages, Paperback</td>\n",
       "    </tr>\n",
       "    <tr>\n",
       "      <th>2</th>\n",
       "      <td>Why Didn't They Ask Evans?</td>\n",
       "      <td>Agatha Christie</td>\n",
       "      <td>3.90</td>\n",
       "      <td>34010.0</td>\n",
       "      <td>2596.0</td>\n",
       "      <td>288 pages, Mass Market Paperback</td>\n",
       "    </tr>\n",
       "    <tr>\n",
       "      <th>3</th>\n",
       "      <td>Angels &amp; Demons</td>\n",
       "      <td>Dan       Brown</td>\n",
       "      <td>3.94</td>\n",
       "      <td>3184346.0</td>\n",
       "      <td>33792.0</td>\n",
       "      <td>736 pages, Mass Market Paperback</td>\n",
       "    </tr>\n",
       "    <tr>\n",
       "      <th>4</th>\n",
       "      <td>The Tale of Hill Top Farm</td>\n",
       "      <td>Susan Wittig Albert</td>\n",
       "      <td>3.91</td>\n",
       "      <td>4017.0</td>\n",
       "      <td>536.0</td>\n",
       "      <td>286 pages, Hardcover</td>\n",
       "    </tr>\n",
       "    <tr>\n",
       "      <th>...</th>\n",
       "      <td>...</td>\n",
       "      <td>...</td>\n",
       "      <td>...</td>\n",
       "      <td>...</td>\n",
       "      <td>...</td>\n",
       "      <td>...</td>\n",
       "    </tr>\n",
       "    <tr>\n",
       "      <th>95</th>\n",
       "      <td>Death of a Gossip</td>\n",
       "      <td>M.C. Beaton</td>\n",
       "      <td>3.66</td>\n",
       "      <td>18319.0</td>\n",
       "      <td>1560.0</td>\n",
       "      <td>179 pages, Paperback</td>\n",
       "    </tr>\n",
       "    <tr>\n",
       "      <th>96</th>\n",
       "      <td>Books Can Be Deceiving</td>\n",
       "      <td>Jenn McKinlay</td>\n",
       "      <td>3.84</td>\n",
       "      <td>10948.0</td>\n",
       "      <td>1430.0</td>\n",
       "      <td>282 pages, Mass Market Paperback</td>\n",
       "    </tr>\n",
       "    <tr>\n",
       "      <th>97</th>\n",
       "      <td>Thyme of Death</td>\n",
       "      <td>Susan Wittig Albert</td>\n",
       "      <td>3.84</td>\n",
       "      <td>8542.0</td>\n",
       "      <td>487.0</td>\n",
       "      <td>320 pages, Mass Market Paperback</td>\n",
       "    </tr>\n",
       "    <tr>\n",
       "      <th>98</th>\n",
       "      <td>Demons are a Ghoul's Best Friend</td>\n",
       "      <td>Victoria Laurie</td>\n",
       "      <td>4.06</td>\n",
       "      <td>6488.0</td>\n",
       "      <td>326.0</td>\n",
       "      <td>282 pages, Mass Market Paperback</td>\n",
       "    </tr>\n",
       "    <tr>\n",
       "      <th>99</th>\n",
       "      <td>Death at Wentwater Court</td>\n",
       "      <td>Carola Dunn</td>\n",
       "      <td>3.70</td>\n",
       "      <td>11145.0</td>\n",
       "      <td>1082.0</td>\n",
       "      <td>252 pages, Mass Market Paperback</td>\n",
       "    </tr>\n",
       "  </tbody>\n",
       "</table>\n",
       "<p>100 rows × 6 columns</p>\n",
       "</div>"
      ],
      "text/plain": [
       "                                Name               Author  rating  \\\n",
       "0                       Truly, Madly       Heather Webber    3.92   \n",
       "1            Blueberry Muffin Murder         Joanne Fluke    3.89   \n",
       "2         Why Didn't They Ask Evans?      Agatha Christie    3.90   \n",
       "3                    Angels & Demons      Dan       Brown    3.94   \n",
       "4          The Tale of Hill Top Farm  Susan Wittig Albert    3.91   \n",
       "..                               ...                  ...     ...   \n",
       "95                 Death of a Gossip          M.C. Beaton    3.66   \n",
       "96            Books Can Be Deceiving        Jenn McKinlay    3.84   \n",
       "97                    Thyme of Death  Susan Wittig Albert    3.84   \n",
       "98  Demons are a Ghoul's Best Friend      Victoria Laurie    4.06   \n",
       "99          Death at Wentwater Court          Carola Dunn    3.70   \n",
       "\n",
       "    rating_count  reviews_count                            Format  \n",
       "0         6997.0         1152.0         305 pages, Kindle Edition  \n",
       "1        24079.0         1358.0              310 pages, Paperback  \n",
       "2        34010.0         2596.0  288 pages, Mass Market Paperback  \n",
       "3      3184346.0        33792.0  736 pages, Mass Market Paperback  \n",
       "4         4017.0          536.0              286 pages, Hardcover  \n",
       "..           ...            ...                               ...  \n",
       "95       18319.0         1560.0              179 pages, Paperback  \n",
       "96       10948.0         1430.0  282 pages, Mass Market Paperback  \n",
       "97        8542.0          487.0  320 pages, Mass Market Paperback  \n",
       "98        6488.0          326.0  282 pages, Mass Market Paperback  \n",
       "99       11145.0         1082.0  252 pages, Mass Market Paperback  \n",
       "\n",
       "[100 rows x 6 columns]"
      ]
     },
     "execution_count": 50,
     "metadata": {},
     "output_type": "execute_result"
    }
   ],
   "source": [
    "df"
   ]
  },
  {
   "cell_type": "code",
   "execution_count": 66,
   "metadata": {},
   "outputs": [],
   "source": [
    "test='https://www.goodreads.com/book/show/512385.The_Trouble_With_Magic?ac=1&from_search=true&qid=4pYf11Lurw&rank=1'\n",
    "test1=\"https://www.goodreads.com/book/show/518518.The_Chocolate_Cat_Caper?ac=1&from_search=true&qid=DiZhQizuX4&rank=1\""
   ]
  },
  {
   "cell_type": "code",
   "execution_count": 67,
   "metadata": {},
   "outputs": [],
   "source": [
    "r1=requests.get(test1)\n",
    "soup1=BeautifulSoup(r1.text,'html.parser')"
   ]
  },
  {
   "cell_type": "code",
   "execution_count": 52,
   "metadata": {},
   "outputs": [],
   "source": [
    "r = requests.get(test)\n",
    "soup = BeautifulSoup(r.text, 'html.parser')"
   ]
  },
  {
   "cell_type": "code",
   "execution_count": 60,
   "metadata": {},
   "outputs": [
    {
     "data": {
      "text/plain": [
       "[]"
      ]
     },
     "execution_count": 60,
     "metadata": {},
     "output_type": "execute_result"
    }
   ],
   "source": [
    "soup.find_all('dd')"
   ]
  },
  {
   "cell_type": "code",
   "execution_count": 61,
   "metadata": {},
   "outputs": [
    {
     "data": {
      "text/plain": [
       "'261 pages, Paperback'"
      ]
     },
     "execution_count": 61,
     "metadata": {},
     "output_type": "execute_result"
    }
   ],
   "source": [
    "pages_format = soup.find('p', {'data-testid': 'pagesFormat'}).text\n",
    "pages_format"
   ]
  },
  {
   "cell_type": "code",
   "execution_count": 68,
   "metadata": {},
   "outputs": [
    {
     "data": {
      "text/plain": [
       "'240 pages, Mass Market Paperback'"
      ]
     },
     "execution_count": 68,
     "metadata": {},
     "output_type": "execute_result"
    }
   ],
   "source": [
    "pages_format = soup1.find('p', {'data-testid': 'pagesFormat'}).text\n",
    "pages_format"
   ]
  }
 ],
 "metadata": {
  "kernelspec": {
   "display_name": "venv",
   "language": "python",
   "name": "python3"
  },
  "language_info": {
   "codemirror_mode": {
    "name": "ipython",
    "version": 3
   },
   "file_extension": ".py",
   "mimetype": "text/x-python",
   "name": "python",
   "nbconvert_exporter": "python",
   "pygments_lexer": "ipython3",
   "version": "3.11.8"
  }
 },
 "nbformat": 4,
 "nbformat_minor": 2
}
