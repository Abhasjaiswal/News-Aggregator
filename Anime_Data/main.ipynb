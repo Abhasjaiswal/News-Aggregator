{
 "cells": [
  {
   "cell_type": "code",
   "execution_count": 34,
   "metadata": {},
   "outputs": [],
   "source": [
    "from bs4 import BeautifulSoup\n",
    "import requests\n",
    "import pandas as pd\n",
    "from joblib import Parallel, delayed\n"
   ]
  },
  {
   "cell_type": "code",
   "execution_count": 35,
   "metadata": {},
   "outputs": [],
   "source": [
    "r = requests.get('https://myanimelist.net/anime/genre/1/Action?page=1')\n",
    "soup = BeautifulSoup(r.text, 'html.parser')"
   ]
  },
  {
   "cell_type": "code",
   "execution_count": 36,
   "metadata": {},
   "outputs": [],
   "source": [
    "soup.find('h3',class_='h3_anime_subtitle')"
   ]
  },
  {
   "cell_type": "code",
   "execution_count": 37,
   "metadata": {},
   "outputs": [
    {
     "data": {
      "text/plain": [
       "[]"
      ]
     },
     "execution_count": 37,
     "metadata": {},
     "output_type": "execute_result"
    }
   ],
   "source": [
    "soup.find_all('a',class_='link-title')"
   ]
  },
  {
   "cell_type": "code",
   "execution_count": 38,
   "metadata": {},
   "outputs": [],
   "source": [
    "product_links = set()\n",
    "\n",
    "for x in range(1, 5):\n",
    "    r = requests.get(f'https://myanimelist.net/anime/genre/1/Action?page={x}')\n",
    "    soup = BeautifulSoup(r.text, 'html.parser')\n",
    "    anime_links = soup.find_all('a', class_='link-title')\n",
    "\n",
    "    for link in anime_links:\n",
    "        title = link.text\n",
    "        url = link['href']\n",
    "        product_links.add((title, url))\n",
    "        print(f\"Title: {title}\\nLink: {url}\\n\")\n",
    "\n",
    "product_links = list(product_links)"
   ]
  },
  {
   "cell_type": "code",
   "execution_count": 39,
   "metadata": {},
   "outputs": [],
   "source": [
    "r = requests.get('https://myanimelist.net/anime/11757/Sword_Art_Online')\n",
    "soup = BeautifulSoup(r.text, 'html.parser')"
   ]
  },
  {
   "cell_type": "code",
   "execution_count": 40,
   "metadata": {},
   "outputs": [
    {
     "data": {
      "text/plain": [
       "[]"
      ]
     },
     "execution_count": 40,
     "metadata": {},
     "output_type": "execute_result"
    }
   ],
   "source": [
    "soup.find_all('span',class_='dark_text')"
   ]
  },
  {
   "cell_type": "code",
   "execution_count": 41,
   "metadata": {},
   "outputs": [],
   "source": [
    "r = requests.get('https://myanimelist.net/anime/11757/Sword_Art_Online')\n",
    "soup = BeautifulSoup(r.text, 'html.parser')\n",
    "\n",
    "divs = soup.find_all('div', class_='spaceit_pad')\n",
    "anime_info = {}\n",
    "\n",
    "for div in divs:\n",
    "    span = div.find('span', class_='dark_text')\n",
    "    if span:\n",
    "        label = span.get_text(strip=True)\n",
    "        value = div.get_text(strip=True, separator=' ')[len(label) + 1:].strip()\n",
    "        # Fix Genres and Themes\n",
    "        if label == 'Genres:':\n",
    "            value = [genre.strip() for genre in value.split(',')]\n",
    "        elif label == 'Themes:':\n",
    "            value = [theme.strip() for theme in value.split(',')]\n",
    "        anime_info[label] = value\n",
    "\n",
    "for key, value in anime_info.items():\n",
    "    print(f\"{key}: {', '.join(value) if isinstance(value, list) else value}\")\n",
    "\n"
   ]
  },
  {
   "cell_type": "code",
   "execution_count": 42,
   "metadata": {},
   "outputs": [],
   "source": [
    "def extract_anime_info(url):\n",
    "    r = requests.get(url)\n",
    "    soup = BeautifulSoup(r.text, 'html.parser')\n",
    "\n",
    "    divs = soup.find_all('div', class_='spaceit_pad')\n",
    "    anime_info = {}\n",
    "\n",
    "    for div in divs:\n",
    "        span = div.find('span', class_='dark_text')\n",
    "        if span:\n",
    "            label = span.get_text(strip=True)\n",
    "            value = div.get_text(strip=True, separator=' ')[len(label) + 1:].strip()\n",
    "            # Fix Genres and Themes\n",
    "            if label == 'Genres:':\n",
    "                value = [genre.strip() for genre in value.split(',')]\n",
    "            elif label == 'Themes:':\n",
    "                value = [theme.strip() for theme in value.split(',')]\n",
    "            anime_info[label] = value\n",
    "\n",
    "    return anime_info\n",
    "\n",
    "product_links = set()\n",
    "\n",
    "for x in range(1, 2):\n",
    "    r = requests.get(f'https://myanimelist.net/anime/genre/1/Action?page={x}')\n",
    "    soup = BeautifulSoup(r.text, 'html.parser')\n",
    "    anime_links = soup.find_all('a', class_='link-title')\n",
    "\n",
    "    for link in anime_links:\n",
    "        title = link.text\n",
    "        url = link['href']\n",
    "        product_links.add((title, url))\n",
    "\n",
    "product_links = list(product_links)\n",
    "\n",
    "for title, url in product_links:\n",
    "    anime_info = extract_anime_info(url)\n",
    "    print(f\"Title: {title}\")\n",
    "    for key, value in anime_info.items():\n",
    "        print(f\"{key}: {', '.join(value) if isinstance(value, list) else value}\")\n",
    "    print()\n"
   ]
  },
  {
   "cell_type": "code",
   "execution_count": 43,
   "metadata": {},
   "outputs": [],
   "source": [
    "def extract_anime_info(url):\n",
    "    r = requests.get(url)\n",
    "    soup = BeautifulSoup(r.text, 'html.parser')\n",
    "\n",
    "    divs = soup.find_all('div', class_='spaceit_pad')\n",
    "    anime_info = {}\n",
    "\n",
    "    for div in divs:\n",
    "        span = div.find('span', class_='dark_text')\n",
    "        if span:\n",
    "            label = span.get_text(strip=True)\n",
    "            value = div.get_text(strip=True, separator=' ')[len(label) + 1:].strip()\n",
    "            # Fix Genres and Themes\n",
    "            if label == 'Genres:':\n",
    "                value = ', '.join([genre.strip() for genre in value.split(',')])\n",
    "            elif label == 'Themes:':\n",
    "                value = ', '.join([theme.strip() for theme in value.split(',')])\n",
    "            anime_info[label[:-1]] = value  # Remove the trailing colon\n",
    "\n",
    "    return anime_info\n",
    "\n",
    "product_links = []\n",
    "\n",
    "for x in range(1, 2):  #Modify the number of pages here \n",
    "    r = requests.get(f'https://myanimelist.net/anime/genre/1/Action?page={x}')\n",
    "    soup = BeautifulSoup(r.text, 'html.parser')\n",
    "    anime_links = soup.find_all('a', class_='link-title')\n",
    "\n",
    "    for link in anime_links:\n",
    "        title = link.text\n",
    "        url = link['href']\n",
    "        product_links.append((title, url))\n",
    "\n",
    "anime_data = []\n",
    "\n",
    "for title, url in product_links:\n",
    "    anime_info = extract_anime_info(url)\n",
    "    anime_info['Title'] = title\n",
    "    anime_data.append(anime_info)\n",
    "\n",
    "df = pd.DataFrame(anime_data)\n",
    "\n",
    "columns_order = ['Title', 'Synonyms', 'Japanese', 'English', 'Type', 'Episodes', 'Status', 'Aired', \n",
    "                 'Premiered', 'Broadcast', 'Producers', 'Licensors', 'Studios', 'Source', 'Genres', \n",
    "                 'Themes', 'Demographic', 'Duration', 'Rating', 'Score', 'Ranked', 'Popularity', \n",
    "                 'Members', 'Favorites']\n",
    "\n",
    "df = df.reindex(columns=columns_order)"
   ]
  },
  {
   "cell_type": "code",
   "execution_count": null,
   "metadata": {},
   "outputs": [],
   "source": [
    "df.to_csv('anime.csv')"
   ]
  },
  {
   "cell_type": "markdown",
   "metadata": {},
   "source": [
    "Adventure"
   ]
  },
  {
   "cell_type": "code",
   "execution_count": null,
   "metadata": {},
   "outputs": [],
   "source": [
    "def extract_anime_info(url):\n",
    "    r = requests.get(url)\n",
    "    soup = BeautifulSoup(r.text, 'html.parser')\n",
    "\n",
    "    divs = soup.find_all('div', class_='spaceit_pad')\n",
    "    anime_info = {}\n",
    "\n",
    "    for div in divs:\n",
    "        span = div.find('span', class_='dark_text')\n",
    "        if span:\n",
    "            label = span.get_text(strip=True)\n",
    "            value = div.get_text(strip=True, separator=' ')[len(label) + 1:].strip()\n",
    "            if label == 'Genres:':\n",
    "                value = ', '.join([genre.strip() for genre in value.split(',')])\n",
    "            elif label == 'Themes:':\n",
    "                value = ', '.join([theme.strip() for theme in value.split(',')])\n",
    "            anime_info[label[:-1]] = value  \n",
    "\n",
    "    return anime_info\n",
    "\n",
    "product_links = []\n",
    "\n",
    "for x in range(1, 2):  #Modify the number of pages here \n",
    "    r = requests.get(f'https://myanimelist.net/anime/genre/2/Adventure?page={x}')  #follow the similar approach for all the Genres\n",
    "    soup = BeautifulSoup(r.text, 'html.parser')\n",
    "    anime_links = soup.find_all('a', class_='link-title')\n",
    "\n",
    "    for link in anime_links:\n",
    "        title = link.text\n",
    "        url = link['href']\n",
    "        product_links.append((title, url))\n",
    "        \n",
    "anime_data = []\n",
    "\n",
    "for title, url in product_links:\n",
    "    anime_info = extract_anime_info(url)\n",
    "    anime_info['Title'] = title\n",
    "    anime_data.append(anime_info)\n",
    "\n",
    "df = pd.DataFrame(anime_data)\n",
    "\n",
    "columns_order = ['Title', 'Synonyms', 'Japanese', 'English', 'Type', 'Episodes', 'Status', 'Aired', \n",
    "                 'Premiered', 'Broadcast', 'Producers', 'Licensors', 'Studios', 'Source', 'Genres', \n",
    "                 'Themes', 'Demographic', 'Duration', 'Rating', 'Score', 'Ranked', 'Popularity', \n",
    "                 'Members', 'Favorites']\n",
    "\n",
    "df = df.reindex(columns=columns_order)"
   ]
  },
  {
   "cell_type": "code",
   "execution_count": null,
   "metadata": {},
   "outputs": [],
   "source": [
    "df.to_csv('anime_adventure.csv')"
   ]
  }
 ],
 "metadata": {
  "kernelspec": {
   "display_name": "venv",
   "language": "python",
   "name": "python3"
  },
  "language_info": {
   "codemirror_mode": {
    "name": "ipython",
    "version": 3
   },
   "file_extension": ".py",
   "mimetype": "text/x-python",
   "name": "python",
   "nbconvert_exporter": "python",
   "pygments_lexer": "ipython3",
   "version": "3.11.8"
  }
 },
 "nbformat": 4,
 "nbformat_minor": 2
}
